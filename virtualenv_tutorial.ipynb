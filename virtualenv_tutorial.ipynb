{
 "cells": [
  {
   "cell_type": "markdown",
   "metadata": {},
   "source": [
    "# Virtualenv Tutorial\n",
    "\n",
    "## Notes: \n",
    "- Save virtual environments in a single folder (perhaps called Environments)\n",
    "\n",
    "#### TO CREATE A NEW VIRTUAL ENVIORNMENT FOR PYTHON 2.6:\n",
    "`$ virtualenv <name of env>`\n",
    "\n",
    "#### TO CREATE A NEW VIRTUAL ENVIORNMENT FOR PYTHON 3:\n",
    "`$ virtualenv -p python3 <name of env>`\n",
    "\n",
    "#### TO ACTIVATE AN ENVIORNMENT:\n",
    "`$ source <name of env>/bin/activate`\n",
    "- Now the environment name should be at the front of your prompt to show that it is active.\n",
    "- You can also use 'which' to verify that your virtualenv is active.\n",
    "\n",
    "#### TO LEAVE YOUR VIRTUAL ENVIORNMENT:\n",
    "`$ deactivate`\n",
    "- The project name should no longer be apart of the prompt.\n",
    "\n",
    "#### TO CHECK WHAT PACKAGES ARE INSTALLED IN YOUR VIRTUAL ENVIORNMENT:\n",
    "`$ pip list`\n",
    "\n",
    "#### TO EXPORT THE LIST OF DEPENDENCIES/PACKAGES USED IN A PROJECT:\n",
    "`$ pip freeze --local > requirements.txt`\n",
    "\n",
    "#### TO INSTALL A LIST OF DEPENDENCIES/PACKAGES FROM A TXT FILE:\n",
    "`$ pip install -r <name of txt file>`\n",
    "\n",
    "#### TO REMOVE A VIRTUAL ENVIORNMENT:\n",
    "`$ rm -rf <name of env>`\n"
   ]
  },
  {
   "cell_type": "code",
   "execution_count": null,
   "metadata": {},
   "outputs": [],
   "source": []
  }
 ],
 "metadata": {
  "kernelspec": {
   "display_name": "Python 3",
   "language": "python",
   "name": "python3"
  },
  "language_info": {
   "codemirror_mode": {
    "name": "ipython",
    "version": 3
   },
   "file_extension": ".py",
   "mimetype": "text/x-python",
   "name": "python",
   "nbconvert_exporter": "python",
   "pygments_lexer": "ipython3",
   "version": "3.6.3"
  }
 },
 "nbformat": 4,
 "nbformat_minor": 2
}
